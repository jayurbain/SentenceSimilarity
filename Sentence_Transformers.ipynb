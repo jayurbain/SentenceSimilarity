{
 "cells": [
  {
   "cell_type": "markdown",
   "metadata": {},
   "source": [
    "## Sentence Transformers\n",
    "\n",
    "Jay Urbain, PhD\n",
    "\n",
    "References:  \n",
    "Reimers, Nils and Gurevych, Iryna. Sentence-BERT: Sentence Embeddings using Siamese BERT-Networks\", Association for Computational Linguistics, 11/2019.  \n",
    "http://arxiv.org/abs/1908.10084 \n",
    "    \n",
    "Github:   \n",
    "- https://github.com/UKPLab/sentence-transformers"
   ]
  },
  {
   "cell_type": "markdown",
   "metadata": {},
   "source": [
    "#### Installation\n",
    "\n",
    "Install the model with pip:\n",
    "\n",
    "pip install -U sentence-transformers\n",
    "\n",
    "\n",
    "From source\n",
    "\n",
    "Clone this repository (https://github.com/UKPLab/sentence-transformers.git) and install it with pip:\n",
    "\n",
    "pip install -e ."
   ]
  },
  {
   "cell_type": "code",
   "execution_count": 3,
   "metadata": {},
   "outputs": [
    {
     "name": "stdout",
     "output_type": "stream",
     "text": [
      "Semantic Similarity with TF-Hub Universal Encoder - Colaboratory.pdf\r\n",
      "Semantic_Similarity_with_TF_Hub_Universal_Encoder.ipynb\r\n",
      "Sentence_Transformers.ipynb\r\n",
      "Similarity_Measures_for_Text_Document_Cl.pdf\r\n",
      "Word Mover’s Embedding-From Word2Vec to Document Embedding.pdf\r\n",
      "gensim_wmd.ipynb\r\n",
      "run_distance_metrics.ipynb\r\n",
      "\u001b[34msentence-transformers\u001b[m\u001b[m\r\n",
      "spacy_wmd.ipynb\r\n",
      "sphx_glr_run_wmd_001.png\r\n",
      "\u001b[34mtransformers\u001b[m\u001b[m\r\n",
      "\u001b[34muniversal-sentence-encoder-fine-tune\u001b[m\u001b[m\r\n",
      "wmd-obama.png\r\n",
      "wmd_metric.pdf\r\n"
     ]
    }
   ],
   "source": [
    "!ls"
   ]
  },
  {
   "cell_type": "code",
   "execution_count": 5,
   "metadata": {},
   "outputs": [
    {
     "name": "stdout",
     "output_type": "stream",
     "text": [
      "/Users/jayurbain/Dropbox/DeepQuestions/sentence-transformers\n"
     ]
    }
   ],
   "source": [
    "%cd /Users/jayurbain/Dropbox/DeepQuestions/sentence-transformers"
   ]
  },
  {
   "cell_type": "code",
   "execution_count": 6,
   "metadata": {},
   "outputs": [
    {
     "name": "stdout",
     "output_type": "stream",
     "text": [
      "Beginning download of datasets\n",
      "Download AllNLI.zip\n",
      "Extract AllNLI.zip\n",
      "Download stsbenchmark.zip\n",
      "Extract stsbenchmark.zip\n",
      "Download wikipedia-sections-triplets.zip\n",
      "Extract wikipedia-sections-triplets.zip\n",
      "All datasets downloaded and extracted\n"
     ]
    }
   ],
   "source": [
    "!python examples/datasets/get_data.py"
   ]
  },
  {
   "cell_type": "markdown",
   "metadata": {},
   "source": [
    "## Semantic Search\n",
    "\n",
    "Application for sentence embeddings for semantic search.\n",
    "\n",
    "For a given query sentence,\n",
    "find the most similar sentence in a corpus.\n",
    "\n",
    "Output the top 5 most similar sentences in the corpus for a query."
   ]
  },
  {
   "cell_type": "code",
   "execution_count": 1,
   "metadata": {},
   "outputs": [],
   "source": [
    "from sentence_transformers import SentenceTransformer\n",
    "import scipy.spatial\n",
    "\n",
    "embedder = SentenceTransformer('bert-base-nli-mean-tokens')\n",
    "\n",
    "# Corpus with example sentences\n",
    "corpus = ['A man is eating food.',\n",
    "          'A man is eating a piece of bread.',\n",
    "          'The girl is carrying a baby.',\n",
    "          'A man is riding a horse.',\n",
    "          'A woman is playing violin.',\n",
    "          'Two men pushed carts through the woods.',\n",
    "          'A man is riding a white horse on an enclosed ground.',\n",
    "          'A monkey is playing drums.',\n",
    "          'A cheetah is running behind its prey.'\n",
    "          ]\n",
    "corpus_embeddings = embedder.encode(corpus)"
   ]
  },
  {
   "cell_type": "code",
   "execution_count": 2,
   "metadata": {},
   "outputs": [],
   "source": [
    "# Query sentences:\n",
    "queries = ['A man is eating pasta.', 'Someone in a gorilla costume is playing a set of drums.', 'A cheetah chases prey on across a field.']\n",
    "queries = corpus\n",
    "query_embeddings = embedder.encode(queries)"
   ]
  },
  {
   "cell_type": "code",
   "execution_count": 3,
   "metadata": {},
   "outputs": [
    {
     "name": "stdout",
     "output_type": "stream",
     "text": [
      "\n",
      "\n",
      "======================\n",
      "\n",
      "\n",
      "Query: A man is eating food.\n",
      "\n",
      "Top 5 most similar sentences in corpus:\n",
      "A man is eating food. (Score: 1.0000)\n",
      "A man is eating a piece of bread. (Score: 0.8437)\n",
      "Two men pushed carts through the woods. (Score: 0.3480)\n",
      "A monkey is playing drums. (Score: 0.2096)\n",
      "A man is riding a horse. (Score: 0.1889)\n",
      "\n",
      "\n",
      "======================\n",
      "\n",
      "\n",
      "Query: A man is eating a piece of bread.\n",
      "\n",
      "Top 5 most similar sentences in corpus:\n",
      "A man is eating a piece of bread. (Score: 1.0000)\n",
      "A man is eating food. (Score: 0.8437)\n",
      "A monkey is playing drums. (Score: 0.2860)\n",
      "Two men pushed carts through the woods. (Score: 0.2797)\n",
      "A man is riding a white horse on an enclosed ground. (Score: 0.1350)\n",
      "\n",
      "\n",
      "======================\n",
      "\n",
      "\n",
      "Query: The girl is carrying a baby.\n",
      "\n",
      "Top 5 most similar sentences in corpus:\n",
      "The girl is carrying a baby. (Score: 1.0000)\n",
      "A woman is playing violin. (Score: 0.4002)\n",
      "A monkey is playing drums. (Score: 0.2725)\n",
      "A cheetah is running behind its prey. (Score: 0.2250)\n",
      "A man is riding a horse. (Score: 0.0978)\n",
      "\n",
      "\n",
      "======================\n",
      "\n",
      "\n",
      "Query: A man is riding a horse.\n",
      "\n",
      "Top 5 most similar sentences in corpus:\n",
      "A man is riding a horse. (Score: 1.0000)\n",
      "A man is riding a white horse on an enclosed ground. (Score: 0.7206)\n",
      "Two men pushed carts through the woods. (Score: 0.4154)\n",
      "A woman is playing violin. (Score: 0.3309)\n",
      "A cheetah is running behind its prey. (Score: 0.2402)\n",
      "\n",
      "\n",
      "======================\n",
      "\n",
      "\n",
      "Query: A woman is playing violin.\n",
      "\n",
      "Top 5 most similar sentences in corpus:\n",
      "A woman is playing violin. (Score: 1.0000)\n",
      "The girl is carrying a baby. (Score: 0.4002)\n",
      "A man is riding a horse. (Score: 0.3309)\n",
      "A man is riding a white horse on an enclosed ground. (Score: 0.2359)\n",
      "A monkey is playing drums. (Score: 0.1104)\n",
      "\n",
      "\n",
      "======================\n",
      "\n",
      "\n",
      "Query: Two men pushed carts through the woods.\n",
      "\n",
      "Top 5 most similar sentences in corpus:\n",
      "Two men pushed carts through the woods. (Score: 1.0000)\n",
      "A man is riding a horse. (Score: 0.4154)\n",
      "A man is riding a white horse on an enclosed ground. (Score: 0.3744)\n",
      "A man is eating food. (Score: 0.3480)\n",
      "A man is eating a piece of bread. (Score: 0.2797)\n",
      "\n",
      "\n",
      "======================\n",
      "\n",
      "\n",
      "Query: A man is riding a white horse on an enclosed ground.\n",
      "\n",
      "Top 5 most similar sentences in corpus:\n",
      "A man is riding a white horse on an enclosed ground. (Score: 1.0000)\n",
      "A man is riding a horse. (Score: 0.7206)\n",
      "Two men pushed carts through the woods. (Score: 0.3744)\n",
      "A woman is playing violin. (Score: 0.2359)\n",
      "A cheetah is running behind its prey. (Score: 0.1597)\n",
      "\n",
      "\n",
      "======================\n",
      "\n",
      "\n",
      "Query: A monkey is playing drums.\n",
      "\n",
      "Top 5 most similar sentences in corpus:\n",
      "A monkey is playing drums. (Score: 1.0000)\n",
      "A cheetah is running behind its prey. (Score: 0.3809)\n",
      "A man is eating a piece of bread. (Score: 0.2860)\n",
      "The girl is carrying a baby. (Score: 0.2725)\n",
      "A man is eating food. (Score: 0.2096)\n",
      "\n",
      "\n",
      "======================\n",
      "\n",
      "\n",
      "Query: A cheetah is running behind its prey.\n",
      "\n",
      "Top 5 most similar sentences in corpus:\n",
      "A cheetah is running behind its prey. (Score: 1.0000)\n",
      "A monkey is playing drums. (Score: 0.3809)\n",
      "Two men pushed carts through the woods. (Score: 0.2456)\n",
      "A man is riding a horse. (Score: 0.2402)\n",
      "The girl is carrying a baby. (Score: 0.2250)\n"
     ]
    }
   ],
   "source": [
    "# Find the closest 5 sentences of the corpus for each query sentence based on cosine similarity\n",
    "closest_n = 5\n",
    "for query, query_embedding in zip(queries, query_embeddings):\n",
    "    distances = scipy.spatial.distance.cdist([query_embedding], corpus_embeddings, \"cosine\")[0]\n",
    "\n",
    "    results = zip(range(len(distances)), distances)\n",
    "    results = sorted(results, key=lambda x: x[1])\n",
    "\n",
    "    print(\"\\n\\n======================\\n\\n\")\n",
    "    print(\"Query:\", query)\n",
    "    print(\"\\nTop 5 most similar sentences in corpus:\")\n",
    "\n",
    "    for idx, distance in results[0:closest_n]:\n",
    "        print(corpus[idx].strip(), \"(Score: %.4f)\" % (1-distance))"
   ]
  },
  {
   "cell_type": "markdown",
   "metadata": {},
   "source": [
    "## Clustering\n",
    "\n",
    "k-means clustering using sklearn"
   ]
  },
  {
   "cell_type": "code",
   "execution_count": 4,
   "metadata": {},
   "outputs": [],
   "source": [
    "from sklearn.cluster import KMeans\n",
    "\n",
    "num_clusters = 5\n",
    "clustering_model = KMeans(n_clusters=num_clusters)\n",
    "clustering_model.fit(corpus_embeddings)\n",
    "cluster_assignment = clustering_model.labels_"
   ]
  },
  {
   "cell_type": "code",
   "execution_count": 5,
   "metadata": {},
   "outputs": [
    {
     "name": "stdout",
     "output_type": "stream",
     "text": [
      "Cluster  1\n",
      "['Two men pushed carts through the woods.']\n",
      "\n",
      "Cluster  2\n",
      "['A man is eating food.', 'A man is eating a piece of bread.']\n",
      "\n",
      "Cluster  3\n",
      "['The girl is carrying a baby.', 'A woman is playing violin.']\n",
      "\n",
      "Cluster  4\n",
      "['A man is riding a horse.', 'A man is riding a white horse on an enclosed ground.']\n",
      "\n",
      "Cluster  5\n",
      "['A monkey is playing drums.', 'A cheetah is running behind its prey.']\n",
      "\n"
     ]
    }
   ],
   "source": [
    "clustered_sentences = [[] for i in range(num_clusters)]\n",
    "for sentence_id, cluster_id in enumerate(cluster_assignment):\n",
    "    clustered_sentences[cluster_id].append(corpus[sentence_id])\n",
    "\n",
    "for i, cluster in enumerate(clustered_sentences):\n",
    "    print(\"Cluster \", i+1)\n",
    "    print(cluster)\n",
    "    print(\"\")"
   ]
  },
  {
   "cell_type": "markdown",
   "metadata": {},
   "source": [
    "Hierarchical Aglomerative Clustering"
   ]
  },
  {
   "cell_type": "code",
   "execution_count": 6,
   "metadata": {},
   "outputs": [
    {
     "data": {
      "image/png": "[encoded data removed]",
      "text/plain": [
       "<Figure size 432x288 with 1 Axes>"
      ]
     },
     "metadata": {
      "needs_background": "light"
     },
     "output_type": "display_data"
    }
   ],
   "source": [
    "import numpy as np\n",
    "\n",
    "from matplotlib import pyplot as plt\n",
    "from scipy.cluster.hierarchy import dendrogram\n",
    "from sklearn.datasets import load_iris\n",
    "from sklearn.cluster import AgglomerativeClustering\n",
    "\n",
    "\n",
    "def plot_dendrogram(model, **kwargs):\n",
    "    # Create linkage matrix and then plot the dendrogram\n",
    "\n",
    "    # create the counts of samples under each node\n",
    "    counts = np.zeros(model.children_.shape[0])\n",
    "    n_samples = len(model.labels_)\n",
    "    for i, merge in enumerate(model.children_):\n",
    "        current_count = 0\n",
    "        for child_idx in merge:\n",
    "            if child_idx < n_samples:\n",
    "                current_count += 1  # leaf node\n",
    "            else:\n",
    "                current_count += counts[child_idx - n_samples]\n",
    "        counts[i] = current_count\n",
    "\n",
    "    linkage_matrix = np.column_stack([model.children_, model.distances_,\n",
    "                                      counts]).astype(float)\n",
    "\n",
    "    # Plot the corresponding dendrogram\n",
    "    dendrogram(linkage_matrix, **kwargs)\n",
    "\n",
    "\n",
    "# setting distance_threshold=0 ensures we compute the full tree.\n",
    "model = AgglomerativeClustering(distance_threshold=0, n_clusters=None)\n",
    "\n",
    "model = model.fit(corpus_embeddings)\n",
    "plt.title('Hierarchical Clustering Dendrogram')\n",
    "# plot the top three levels of the dendrogram\n",
    "plot_dendrogram(model, truncate_mode='level', p=3)\n",
    "plt.xlabel(\"Number of points in node (or index of point if no parenthesis).\")\n",
    "plt.show()"
   ]
  },
  {
   "cell_type": "code",
   "execution_count": null,
   "metadata": {},
   "outputs": [],
   "source": []
  },
  {
   "cell_type": "markdown",
   "metadata": {},
   "source": [
    "#### Load sentences"
   ]
  },
  {
   "cell_type": "code",
   "execution_count": 17,
   "metadata": {},
   "outputs": [],
   "source": [
    "corpus = ['A man is eating food.',\n",
    "          'A man is eating a piece of bread.',\n",
    "          'The girl is carrying a baby.',\n",
    "          'A man is riding a horse.',\n",
    "          'A woman is playing violin.',\n",
    "          'Two men pushed carts through the woods.',\n",
    "          'A man is riding a white horse on an enclosed ground.',\n",
    "          'A monkey is playing drums.',\n",
    "          'A cheetah is running behind its prey.'\n",
    "          ]"
   ]
  },
  {
   "cell_type": "code",
   "execution_count": 33,
   "metadata": {},
   "outputs": [
    {
     "name": "stdout",
     "output_type": "stream",
     "text": [
      "/Users/jayurbain/Dropbox/DeepQuestions/sentence-transformers\r\n"
     ]
    }
   ],
   "source": [
    "!pwd"
   ]
  },
  {
   "cell_type": "code",
   "execution_count": 44,
   "metadata": {},
   "outputs": [],
   "source": [
    "with open('sentence.txt', 'w') as f:\n",
    "    for s in corpus:\n",
    "        f.write(s +'\\n')"
   ]
  },
  {
   "cell_type": "code",
   "execution_count": 45,
   "metadata": {},
   "outputs": [
    {
     "name": "stdout",
     "output_type": "stream",
     "text": [
      "A man is eating food.\r\n",
      "A man is eating a piece of bread.\r\n",
      "The girl is carrying a baby.\r\n",
      "A man is riding a horse.\r\n",
      "A woman is playing violin.\r\n",
      "Two men pushed carts through the woods.\r\n",
      "A man is riding a white horse on an enclosed ground.\r\n",
      "A monkey is playing drums.\r\n",
      "A cheetah is running behind its prey.\r\n"
     ]
    }
   ],
   "source": [
    "!cat sentence.txt"
   ]
  },
  {
   "cell_type": "code",
   "execution_count": 47,
   "metadata": {},
   "outputs": [
    {
     "name": "stdout",
     "output_type": "stream",
     "text": [
      "Line 1: A man is eating food.\n",
      "\n",
      "Line 2: A man is eating a piece of bread.\n",
      "\n",
      "Line 3: The girl is carrying a baby.\n",
      "\n",
      "Line 4: A man is riding a horse.\n",
      "\n",
      "Line 5: A woman is playing violin.\n",
      "\n",
      "Line 6: Two men pushed carts through the woods.\n",
      "\n",
      "Line 7: A man is riding a white horse on an enclosed ground.\n",
      "\n",
      "Line 8: A monkey is playing drums.\n",
      "\n",
      "Line 9: A cheetah is running behind its prey.\n",
      "\n"
     ]
    }
   ],
   "source": [
    "corpus_copy = []\n",
    "filepath = 'sentence.txt'\n",
    "with open(filepath) as fp:\n",
    "    line = fp.readline()\n",
    "    cnt = 1\n",
    "    while line:\n",
    "        corpus_copy.append(line)\n",
    "        print(\"Line {}: {}\".format(cnt, line))\n",
    "        line = fp.readline()\n",
    "        cnt += 1"
   ]
  },
  {
   "cell_type": "code",
   "execution_count": 48,
   "metadata": {},
   "outputs": [
    {
     "data": {
      "text/plain": [
       "['A man is eating food.\\n',\n",
       " 'A man is eating a piece of bread.\\n',\n",
       " 'The girl is carrying a baby.\\n',\n",
       " 'A man is riding a horse.\\n',\n",
       " 'A woman is playing violin.\\n',\n",
       " 'Two men pushed carts through the woods.\\n',\n",
       " 'A man is riding a white horse on an enclosed ground.\\n',\n",
       " 'A monkey is playing drums.\\n',\n",
       " 'A cheetah is running behind its prey.\\n']"
      ]
     },
     "execution_count": 48,
     "metadata": {},
     "output_type": "execute_result"
    }
   ],
   "source": [
    "corpus_copy"
   ]
  },
  {
   "cell_type": "code",
   "execution_count": 49,
   "metadata": {},
   "outputs": [],
   "source": [
    "from sentence_transformers import SentenceTransformer\n",
    "import scipy.spatial\n",
    "\n",
    "embedder = SentenceTransformer('bert-base-nli-mean-tokens')\n",
    "\n",
    "# Corpus with example sentences\n",
    "# corpus = ['A man is eating food.',\n",
    "#           'A man is eating a piece of bread.',\n",
    "#           'The girl is carrying a baby.',\n",
    "#           'A man is riding a horse.',\n",
    "#           'A woman is playing violin.',\n",
    "#           'Two men pushed carts through the woods.',\n",
    "#           'A man is riding a white horse on an enclosed ground.',\n",
    "#           'A monkey is playing drums.',\n",
    "#           'A cheetah is running behind its prey.'\n",
    "#           ]\n",
    "corpus = corpus_copy\n",
    "corpus_embeddings = embedder.encode(corpus)"
   ]
  },
  {
   "cell_type": "code",
   "execution_count": 50,
   "metadata": {},
   "outputs": [
    {
     "name": "stdout",
     "output_type": "stream",
     "text": [
      "\n",
      "\n",
      "======================\n",
      "\n",
      "\n",
      "Query: A man is eating food.\n",
      "\n",
      "Top 5 most similar sentences in corpus:\n",
      "A man is eating food. (Score: 1.0000)\n",
      "A man is eating a piece of bread. (Score: 0.8437)\n",
      "Two men pushed carts through the woods. (Score: 0.3480)\n",
      "A monkey is playing drums. (Score: 0.2096)\n",
      "A man is riding a horse. (Score: 0.1889)\n",
      "\n",
      "\n",
      "======================\n",
      "\n",
      "\n",
      "Query: A man is eating a piece of bread.\n",
      "\n",
      "Top 5 most similar sentences in corpus:\n",
      "A man is eating a piece of bread. (Score: 1.0000)\n",
      "A man is eating food. (Score: 0.8437)\n",
      "A monkey is playing drums. (Score: 0.2860)\n",
      "Two men pushed carts through the woods. (Score: 0.2797)\n",
      "A man is riding a white horse on an enclosed ground. (Score: 0.1350)\n",
      "\n",
      "\n",
      "======================\n",
      "\n",
      "\n",
      "Query: The girl is carrying a baby.\n",
      "\n",
      "Top 5 most similar sentences in corpus:\n",
      "The girl is carrying a baby. (Score: 1.0000)\n",
      "A woman is playing violin. (Score: 0.4002)\n",
      "A monkey is playing drums. (Score: 0.2725)\n",
      "A cheetah is running behind its prey. (Score: 0.2250)\n",
      "A man is riding a horse. (Score: 0.0978)\n",
      "\n",
      "\n",
      "======================\n",
      "\n",
      "\n",
      "Query: A man is riding a horse.\n",
      "\n",
      "Top 5 most similar sentences in corpus:\n",
      "A man is riding a horse. (Score: 1.0000)\n",
      "A man is riding a white horse on an enclosed ground. (Score: 0.7206)\n",
      "Two men pushed carts through the woods. (Score: 0.4154)\n",
      "A woman is playing violin. (Score: 0.3309)\n",
      "A cheetah is running behind its prey. (Score: 0.2402)\n",
      "\n",
      "\n",
      "======================\n",
      "\n",
      "\n",
      "Query: A woman is playing violin.\n",
      "\n",
      "Top 5 most similar sentences in corpus:\n",
      "A woman is playing violin. (Score: 1.0000)\n",
      "The girl is carrying a baby. (Score: 0.4002)\n",
      "A man is riding a horse. (Score: 0.3309)\n",
      "A man is riding a white horse on an enclosed ground. (Score: 0.2359)\n",
      "A monkey is playing drums. (Score: 0.1104)\n",
      "\n",
      "\n",
      "======================\n",
      "\n",
      "\n",
      "Query: Two men pushed carts through the woods.\n",
      "\n",
      "Top 5 most similar sentences in corpus:\n",
      "Two men pushed carts through the woods. (Score: 1.0000)\n",
      "A man is riding a horse. (Score: 0.4154)\n",
      "A man is riding a white horse on an enclosed ground. (Score: 0.3744)\n",
      "A man is eating food. (Score: 0.3480)\n",
      "A man is eating a piece of bread. (Score: 0.2797)\n",
      "\n",
      "\n",
      "======================\n",
      "\n",
      "\n",
      "Query: A man is riding a white horse on an enclosed ground.\n",
      "\n",
      "Top 5 most similar sentences in corpus:\n",
      "A man is riding a white horse on an enclosed ground. (Score: 1.0000)\n",
      "A man is riding a horse. (Score: 0.7206)\n",
      "Two men pushed carts through the woods. (Score: 0.3744)\n",
      "A woman is playing violin. (Score: 0.2359)\n",
      "A cheetah is running behind its prey. (Score: 0.1597)\n",
      "\n",
      "\n",
      "======================\n",
      "\n",
      "\n",
      "Query: A monkey is playing drums.\n",
      "\n",
      "Top 5 most similar sentences in corpus:\n",
      "A monkey is playing drums. (Score: 1.0000)\n",
      "A cheetah is running behind its prey. (Score: 0.3809)\n",
      "A man is eating a piece of bread. (Score: 0.2860)\n",
      "The girl is carrying a baby. (Score: 0.2725)\n",
      "A man is eating food. (Score: 0.2096)\n",
      "\n",
      "\n",
      "======================\n",
      "\n",
      "\n",
      "Query: A cheetah is running behind its prey.\n",
      "\n",
      "Top 5 most similar sentences in corpus:\n",
      "A cheetah is running behind its prey. (Score: 1.0000)\n",
      "A monkey is playing drums. (Score: 0.3809)\n",
      "Two men pushed carts through the woods. (Score: 0.2456)\n",
      "A man is riding a horse. (Score: 0.2402)\n",
      "The girl is carrying a baby. (Score: 0.2250)\n"
     ]
    }
   ],
   "source": [
    "# Find the closest 5 sentences of the corpus for each query sentence based on cosine similarity\n",
    "closest_n = 5\n",
    "for query, query_embedding in zip(queries, query_embeddings):\n",
    "    distances = scipy.spatial.distance.cdist([query_embedding], corpus_embeddings, \"cosine\")[0]\n",
    "\n",
    "    results = zip(range(len(distances)), distances)\n",
    "    results = sorted(results, key=lambda x: x[1])\n",
    "\n",
    "    print(\"\\n\\n======================\\n\\n\")\n",
    "    print(\"Query:\", query)\n",
    "    print(\"\\nTop 5 most similar sentences in corpus:\")\n",
    "\n",
    "    for idx, distance in results[0:closest_n]:\n",
    "        print(corpus[idx].strip(), \"(Score: %.4f)\" % (1-distance))"
   ]
  },
  {
   "cell_type": "markdown",
   "metadata": {},
   "source": [
    "## Fine Tuning\n",
    "\n",
    "Training a pretrained model on other data."
   ]
  },
  {
   "cell_type": "code",
   "execution_count": 21,
   "metadata": {},
   "outputs": [
    {
     "name": "stdout",
     "output_type": "stream",
     "text": [
      "/Users/jayurbain/Dropbox/DeepQuestions/SentenceSimilarity\r\n"
     ]
    }
   ],
   "source": [
    "!pwd"
   ]
  },
  {
   "cell_type": "markdown",
   "metadata": {},
   "source": [
    "Download data:\n",
    "    \n",
    "The AllNLI dataset is the concatenation of the SNLI dataset (https://nlp.stanford.edu/projects/snli/) and the MultiNLI dataset (https://www.nyu.edu/projects/bowman/multinli/).\n",
    "\n",
    "STS Benchmark\n",
    "The STS Benchmark (http://ixa2.si.ehu.eus/stswiki) contains sentence pairs with human gold score for their similarity.\n",
    "\n",
    "Reference:\n",
    "\n",
    "training_stsbenchmark_continue_training.py"
   ]
  },
  {
   "cell_type": "code",
   "execution_count": 22,
   "metadata": {},
   "outputs": [],
   "source": [
    "#!python datasets/get_data.py"
   ]
  },
  {
   "cell_type": "code",
   "execution_count": 23,
   "metadata": {},
   "outputs": [],
   "source": [
    "from torch.utils.data import DataLoader\n",
    "import math\n",
    "from sentence_transformers import SentenceTransformer,  SentencesDataset, LoggingHandler, losses\n",
    "from sentence_transformers.evaluation import EmbeddingSimilarityEvaluator\n",
    "from sentence_transformers.readers import STSDataReader\n",
    "import logging\n",
    "from datetime import datetime"
   ]
  },
  {
   "cell_type": "code",
   "execution_count": 24,
   "metadata": {},
   "outputs": [],
   "source": [
    "#### Just some code to print debug information to stdout\n",
    "logging.basicConfig(format='%(asctime)s - %(message)s',\n",
    "                    datefmt='%Y-%m-%d %H:%M:%S',\n",
    "                    level=logging.INFO,\n",
    "                    handlers=[LoggingHandler()])\n",
    "#### /print debug information to stdout"
   ]
  },
  {
   "cell_type": "code",
   "execution_count": 25,
   "metadata": {},
   "outputs": [],
   "source": [
    "# Read the dataset\n",
    "model_name = 'bert-base-nli-mean-tokens'\n",
    "train_batch_size = 16\n",
    "num_epochs = 4\n",
    "model_save_path = 'output/training_stsbenchmark_continue_training-'+model_name+'-'+datetime.now().strftime(\"%Y-%m-%d_%H-%M-%S\")\n",
    "sts_reader = STSDataReader('datasets/stsbenchmark', normalize_scores=True)\n"
   ]
  },
  {
   "cell_type": "code",
   "execution_count": 11,
   "metadata": {},
   "outputs": [
    {
     "name": "stdout",
     "output_type": "stream",
     "text": [
      "/Users/jayurbain/Dropbox/DeepQuestions/SentenceSimilarity\r\n"
     ]
    }
   ],
   "source": [
    "!pwd"
   ]
  },
  {
   "cell_type": "code",
   "execution_count": 26,
   "metadata": {},
   "outputs": [],
   "source": [
    "# Load a pre-trained sentence transformer model\n",
    "model = SentenceTransformer(model_name)"
   ]
  },
  {
   "cell_type": "code",
   "execution_count": 27,
   "metadata": {},
   "outputs": [],
   "source": [
    "# Convert the dataset to a DataLoader ready for training\n",
    "logging.info(\"Read STSbenchmark train dataset\")\n",
    "train_data = SentencesDataset(sts_reader.get_examples('sts-train.csv'), model)\n",
    "train_dataloader = DataLoader(train_data, shuffle=True, batch_size=train_batch_size)\n",
    "train_loss = losses.CosineSimilarityLoss(model=model)\n",
    "\n",
    "\n",
    "logging.info(\"Read STSbenchmark dev dataset\")\n",
    "dev_data = SentencesDataset(examples=sts_reader.get_examples('sts-dev.csv'), model=model)\n",
    "dev_dataloader = DataLoader(dev_data, shuffle=False, batch_size=train_batch_size)\n",
    "evaluator = EmbeddingSimilarityEvaluator(dev_dataloader)"
   ]
  },
  {
   "cell_type": "code",
   "execution_count": 28,
   "metadata": {},
   "outputs": [],
   "source": [
    "# Configure the training. We skip evaluation in this example\n",
    "warmup_steps = math.ceil(len(train_data)*num_epochs/train_batch_size*0.1) #10% of train data for warm-up\n",
    "logging.info(\"Warmup-steps: {}\".format(warmup_steps))"
   ]
  },
  {
   "cell_type": "code",
   "execution_count": null,
   "metadata": {},
   "outputs": [
    {
     "name": "stderr",
     "output_type": "stream",
     "text": [
      "Epoch:   0%|          | 0/4 [00:00<?, ?it/s]\n",
      "Iteration:   0%|          | 0/360 [00:00<?, ?it/s]\u001b[A\n",
      "Iteration:   0%|          | 1/360 [00:06<37:25,  6.25s/it]\u001b[A\n",
      "Iteration:   1%|          | 2/360 [00:12<37:10,  6.23s/it]\u001b[A\n",
      "Iteration:   1%|          | 3/360 [00:15<36:22,  6.11s/it]\u001b[A\n",
      "Iteration:   1%|          | 4/360 [00:22<36:16,  6.11s/it]\u001b[A\n",
      "Iteration:   1%|▏         | 5/360 [00:29<36:27,  6.16s/it]\u001b[A\n",
      "Iteration:   2%|▏         | 6/360 [00:34<36:14,  6.14s/it]\u001b[A\n",
      "Iteration:   2%|▏         | 7/360 [00:41<36:12,  6.15s/it]\u001b[A\n",
      "Iteration:   2%|▏         | 8/360 [00:47<36:00,  6.14s/it]\u001b[A\n",
      "Iteration:   2%|▎         | 9/360 [00:52<35:49,  6.12s/it]\u001b[A\n",
      "Iteration:   3%|▎         | 10/360 [00:59<35:42,  6.12s/it]\u001b[A\n",
      "Iteration:   3%|▎         | 11/360 [01:05<35:36,  6.12s/it]\u001b[A\n",
      "Iteration:   3%|▎         | 12/360 [01:13<36:11,  6.24s/it]\u001b[A"
     ]
    }
   ],
   "source": [
    "# Train the model\n",
    "model.fit(train_objectives=[(train_dataloader, train_loss)],\n",
    "          evaluator=evaluator,\n",
    "          epochs=num_epochs,\n",
    "          evaluation_steps=1000,\n",
    "          warmup_steps=warmup_steps,\n",
    "          output_path=model_save_path)"
   ]
  },
  {
   "cell_type": "code",
   "execution_count": null,
   "metadata": {},
   "outputs": [],
   "source": [
    "##############################################################################\n",
    "#\n",
    "# Load the stored model and evaluate its performance on STS benchmark dataset\n",
    "#\n",
    "##############################################################################\n",
    "\n",
    "model = SentenceTransformer(model_save_path)\n",
    "test_data = SentencesDataset(examples=sts_reader.get_examples(\"sts-test.csv\"), model=model)\n",
    "test_dataloader = DataLoader(test_data, shuffle=False, batch_size=train_batch_size)\n",
    "evaluator = EmbeddingSimilarityEvaluator(test_dataloader)\n",
    "model.evaluate(evaluator)"
   ]
  },
  {
   "cell_type": "code",
   "execution_count": null,
   "metadata": {},
   "outputs": [],
   "source": []
  }
 ],
 "metadata": {
  "kernelspec": {
   "display_name": "Python [conda env:pytorch_rl] *",
   "language": "python",
   "name": "conda-env-pytorch_rl-py"
  },
  "language_info": {
   "codemirror_mode": {
    "name": "ipython",
    "version": 3
   },
   "file_extension": ".py",
   "mimetype": "text/x-python",
   "name": "python",
   "nbconvert_exporter": "python",
   "pygments_lexer": "ipython3",
   "version": "3.7.6"
  }
 },
 "nbformat": 4,
 "nbformat_minor": 2
}
