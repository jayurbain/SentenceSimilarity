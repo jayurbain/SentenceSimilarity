{
 "cells": [
  {
   "cell_type": "markdown",
   "metadata": {
    "colab_type": "text",
    "id": "RUymE2l9GZfO"
   },
   "source": [
    "## Universal Sentence Encoder\n",
    "\n",
    "Jay Urbain, PhD\n",
    "\n",
    "Multilingual  pretrained sentence  encoding  modelsbased on the Transformer and CNN  model  architectures.   The  models  embed text from 16 languages into a single semantic space using a multi-task trained dual-encoder that learns tied representations using translation based bridge tasks (Chidambaramet  al.,  2018).\n",
    "\n",
    "The  models  provide  performance  that  is  competitive  with  the  state-of-the-art on: semantic retrieval (SR), translation pair bitext retrieval (BR) and retrieval question answering (ReQA). \n",
    "\n",
    "On English transfer learning tasks,  the sentence-level embeddings approach, matches and in some cases exceed, the performance of monolingual, English only, sentence embedding  models.\n",
    "\n",
    "Designed for tasks using pretraining and transfer learning for applications with limited training data.\n",
    "\n",
    "The  models are available for download on TensorFlow Hub."
   ]
  },
  {
   "cell_type": "markdown",
   "metadata": {},
   "source": [
    "#### References:  \n",
    "\n",
    "Universal Sentence Encoder   \n",
    "- https://arxiv.org/pdf/1803.11175.pdf (paper)\n",
    "\n",
    "- https://tfhub.dev/google/universal-sentence-encoder/4 (model)\n",
    "- https://github.com/tensorflow/hub/blob/master/examples/colab/semantic_similarity_with_tf_hub_universal_encoder.ipynb (Tensorflow Hub model repo)\n",
    "- https://colab.research.google.com/github/tensorflow/hub/blob/master/examples/colab/semantic_similarity_with_tf_hub_universal_encoder.ipynb (colab)\n",
    "- https://towardsdatascience.com/use-cases-of-googles-universal-sentence-encoder-in-production-dd5aaab4fc15 (blog post)   \n",
    "    \n",
    "Deep Unordered Composition Rivals Syntactic Methods for Text Classification\n",
    "- https://people.cs.umass.edu/~miyyer/pubs/2015_acl_dan.pdf (Encoder model used in Universal Sentence Encoder, much better computationally, as small cost in performance relative to transformer modeel).\n",
    "\n",
    "Sentence-level transfer learning paper outperforming word models: \n",
    "- Alexis Conneau, Douwe Kiela, Holger Schwenk, LoicBarrault,  and  Antoine  Bordes.  2017.    Supervised learning of universal sentence representations from natural  language  inference  data. arXiv preprintarXiv:1705.02364.   \n",
    "https://arxiv.org/pdf/1803.11175.pdf#cite.conneau2017"
   ]
  },
  {
   "cell_type": "markdown",
   "metadata": {},
   "source": [
    "The `Universal Sentence Encoder` encodes text into high dimensional vectors that can be used for text classification, semantic similarity, clustering, and other natural language tasks. \n",
    "\n",
    "The pre-trained Universal Sentence Encoder is publicly available in Tensorflow-hub. It comes with two variations i.e. one trained with `Transformer encoder` and other trained with `Deep Averaging Network (DAN)`. The two have a trade-off of accuracy and computational resource requirement. While the one with Transformer encoder has higher accuracy, it is computationally more intensive. The one with DNA encoding is computationally less expensive and with little lower accuracy."
   ]
  },
  {
   "cell_type": "markdown",
   "metadata": {
    "colab_type": "text",
    "id": "eAVQGidpL8v5"
   },
   "source": [
    "This notebook illustrates how to access the Universal Sentence Encoder and use it for sentence similarity and sentence classification tasks.\n",
    "\n",
    "The sentence embeddings can then be easily used to compute sentence level meaning similarity as well as to enable better performance on downstream classification tasks using less supervised training data.\n"
   ]
  },
  {
   "cell_type": "markdown",
   "metadata": {
    "colab_type": "text",
    "id": "pOTzp8O36CyQ"
   },
   "source": [
    "This section sets up the environment for access to the Universal Sentence Encoder on TF Hub and provides examples of applying the encoder to words, sentences, and paragraphs.\n",
    "\n",
    "The DAN enocding is used. DAN has been documented to take very less training time with slightly less accuracy on compared to other approach i.e. transformer encoder.\n",
    "\n",
    "https://medium.com/tech-that-works/deep-averaging-network-in-universal-sentence-encoder-465655874a04\n"
   ]
  },
  {
   "cell_type": "code",
   "execution_count": 10,
   "metadata": {
    "colab": {},
    "colab_type": "code",
    "id": "lVjNK8shFKOC"
   },
   "outputs": [],
   "source": [
    "%%capture\n",
    "# Install the latest Tensorflow version.\n",
    "#!pip3 install --upgrade tensorflow-gpu\n",
    "# Install TF-Hub.\n",
    "# !pip3 install tensorflow-hub\n",
    "# !pip3 install seaborn"
   ]
  },
  {
   "cell_type": "markdown",
   "metadata": {},
   "source": [
    "#### Load the Universal Sentence Encoder's TF Hub module"
   ]
  },
  {
   "cell_type": "code",
   "execution_count": 11,
   "metadata": {
    "colab": {
     "base_uri": "https://localhost:8080/",
     "height": 35
    },
    "colab_type": "code",
    "id": "zwty8Z6mAkdV",
    "outputId": "8cc79110-55a7-4e07-a3c6-29c0331e58a4"
   },
   "outputs": [
    {
     "name": "stdout",
     "output_type": "stream",
     "text": [
      "module https://tfhub.dev/google/universal-sentence-encoder/4 loaded\n"
     ]
    }
   ],
   "source": [
    "from absl import logging\n",
    "\n",
    "import tensorflow as tf\n",
    "import tensorflow_hub as hub\n",
    "import matplotlib.pyplot as plt\n",
    "import numpy as np\n",
    "import os\n",
    "import pandas as pd\n",
    "import re\n",
    "import seaborn as sns\n",
    "\n",
    "module_url = \"https://tfhub.dev/google/universal-sentence-encoder/4\" #@param [\"https://tfhub.dev/google/universal-sentence-encoder/4\", \"https://tfhub.dev/google/universal-sentence-encoder-large/5\"]\n",
    "model = hub.load(module_url)\n",
    "print (\"module %s loaded\" % module_url)\n",
    "def embed(input):\n",
    "  return model(input)"
   ]
  },
  {
   "cell_type": "markdown",
   "metadata": {},
   "source": [
    "#### Compute a representation for each message, showing various lengths supported"
   ]
  },
  {
   "cell_type": "code",
   "execution_count": 13,
   "metadata": {
    "colab": {
     "base_uri": "https://localhost:8080/",
     "height": 245
    },
    "colab_type": "code",
    "id": "Q8F4LNGFqOiq",
    "outputId": "cf166146-e202-4db0-f385-de8063e4e1dd"
   },
   "outputs": [
    {
     "name": "stdout",
     "output_type": "stream",
     "text": [
      "Message: Elephant\n",
      "Embedding size: 512\n",
      "Embedding: [0.008344483561813831, 0.0004808558733202517, 0.06595248728990555, ...]\n",
      "\n",
      "Message: I am a sentence for which I would like to get its embedding.\n",
      "Embedding size: 512\n",
      "Embedding: [0.050808604806661606, -0.0165242962539196, 0.01573782227933407, ...]\n",
      "\n",
      "Message: Universal Sentence Encoder embeddings also support short paragraphs. There is no hard limit on how long the paragraph is. Roughly, the longer the more 'diluted' the embedding will be.\n",
      "Embedding size: 512\n",
      "Embedding: [-0.02833268791437149, -0.055862173438072205, -0.012941430322825909, ...]\n",
      "\n"
     ]
    }
   ],
   "source": [
    "word = \"Elephant\"\n",
    "sentence = \"I am a sentence for which I would like to get its embedding.\"\n",
    "paragraph = (\n",
    "    \"Universal Sentence Encoder embeddings also support short paragraphs. \"\n",
    "    \"There is no hard limit on how long the paragraph is. Roughly, the longer \"\n",
    "    \"the more 'diluted' the embedding will be.\")\n",
    "messages = [word, sentence, paragraph]\n",
    "\n",
    "# Reduce logging output.\n",
    "logging.set_verbosity(logging.ERROR)\n",
    "\n",
    "message_embeddings = embed(messages)\n",
    "\n",
    "for i, message_embedding in enumerate(np.array(message_embeddings).tolist()):\n",
    "  print(\"Message: {}\".format(messages[i]))\n",
    "  print(\"Embedding size: {}\".format(len(message_embedding)))\n",
    "  message_embedding_snippet = \", \".join(\n",
    "      (str(x) for x in message_embedding[:3]))\n",
    "  print(\"Embedding: [{}, ...]\\n\".format(message_embedding_snippet))"
   ]
  },
  {
   "cell_type": "markdown",
   "metadata": {},
   "source": [
    "Potentially more challenging questions testing similar words with different meaning, and disimilar words with similar meaning"
   ]
  },
  {
   "cell_type": "code",
   "execution_count": 15,
   "metadata": {
    "colab": {
     "base_uri": "https://localhost:8080/",
     "height": 294
    },
    "colab_type": "code",
    "id": "bnenUdQfaCC_",
    "outputId": "3f31bc12-45bb-47f1-d366-0cad86f558dc"
   },
   "outputs": [
    {
     "name": "stdout",
     "output_type": "stream",
     "text": [
      "Message: Where do you live?\n",
      "Embedding size: 512\n",
      "Embedding: [-0.051802027970552444, 0.00988512858748436, 0.009856321848928928, ...]\n",
      "\n",
      "Message: What is your address?\n",
      "Embedding size: 512\n",
      "Embedding: [0.013197696767747402, -0.07083427160978317, -0.060961704701185226, ...]\n",
      "\n",
      "Message: What is your name?\n",
      "Embedding size: 512\n",
      "Embedding: [-0.08571171760559082, -0.0494118370115757, -0.019511744379997253, ...]\n",
      "\n",
      "Message: Where is your home?\n",
      "Embedding size: 512\n",
      "Embedding: [-0.05422673001885414, 0.012377091683447361, -0.018855107948184013, ...]\n",
      "\n"
     ]
    }
   ],
   "source": [
    "#title Compute a representation for each message, showing various lengths supported.\n",
    "q1 = \"Where do you live?\"\n",
    "q2 = \"What is your address?\"\n",
    "q3 = \"What is your name?\"\n",
    "q4 = \"Where is your home?\"\n",
    "messages = [q1, q2, q3, q4]\n",
    "\n",
    "# Reduce logging output.\n",
    "logging.set_verbosity(logging.ERROR)\n",
    "\n",
    "message_embeddings = embed(messages)\n",
    "\n",
    "for i, message_embedding in enumerate(np.array(message_embeddings).tolist()):\n",
    "  print(\"Message: {}\".format(messages[i]))\n",
    "  print(\"Embedding size: {}\".format(len(message_embedding)))\n",
    "  message_embedding_snippet = \", \".join(\n",
    "      (str(x) for x in message_embedding[:3]))\n",
    "  print(\"Embedding: [{}, ...]\\n\".format(message_embedding_snippet))"
   ]
  },
  {
   "cell_type": "code",
   "execution_count": 7,
   "metadata": {
    "colab": {
     "base_uri": "https://localhost:8080/",
     "height": 52
    },
    "colab_type": "code",
    "id": "INAwCbUqayLB",
    "outputId": "d617044e-7589-41e3-ade3-5aed7eb445a3"
   },
   "outputs": [
    {
     "name": "stdout",
     "output_type": "stream",
     "text": [
      "['Where do you live?', 'What is your address?', 'What is your name?', 'Where is your home?']\n",
      "What is your address? What is your name? 0.49952847\n"
     ]
    }
   ],
   "source": [
    "print(messages)\n",
    "m1 = 1\n",
    "m2 = 2\n",
    "print(messages[m1], messages[m2], np.inner(message_embeddings[m1], message_embeddings[m2]))\n"
   ]
  },
  {
   "cell_type": "code",
   "execution_count": 8,
   "metadata": {
    "colab": {
     "base_uri": "https://localhost:8080/",
     "height": 225
    },
    "colab_type": "code",
    "id": "i0TrpDBzghNX",
    "outputId": "34c480b8-1c79-4108-e817-5957262978de"
   },
   "outputs": [
    {
     "name": "stdout",
     "output_type": "stream",
     "text": [
      "Where do you live? What is your address? 0.47146526\n",
      "Where do you live? What is your name? 0.40523222\n",
      "Where do you live? Where is your home? 0.72636557\n",
      "What is your address? Where do you live? 0.47146526\n",
      "What is your address? What is your name? 0.49952847\n",
      "What is your address? Where is your home? 0.56147164\n",
      "What is your name? Where do you live? 0.40523222\n",
      "What is your name? What is your address? 0.49952847\n",
      "What is your name? Where is your home? 0.3848793\n",
      "Where is your home? Where do you live? 0.72636557\n",
      "Where is your home? What is your address? 0.56147164\n",
      "Where is your home? What is your name? 0.3848793\n"
     ]
    }
   ],
   "source": [
    "for i in range( len(messages) ):\n",
    "  for j in range( len(messages) ):\n",
    "    if i != j:\n",
    "      print(messages[i], messages[j], np.inner(message_embeddings[i], message_embeddings[j]))"
   ]
  },
  {
   "cell_type": "code",
   "execution_count": 9,
   "metadata": {
    "colab": {
     "base_uri": "https://localhost:8080/",
     "height": 35
    },
    "colab_type": "code",
    "id": "pQziXRDDguUr",
    "outputId": "1c103b9d-419a-4965-e876-ee3aac20b39e"
   },
   "outputs": [
    {
     "data": {
      "text/plain": [
       "<enumerate at 0x109288730>"
      ]
     },
     "execution_count": 9,
     "metadata": {},
     "output_type": "execute_result"
    }
   ],
   "source": [
    "enumerate(np.array(message_embeddings))"
   ]
  },
  {
   "cell_type": "markdown",
   "metadata": {
    "colab_type": "text",
    "id": "BnvjATdy64eR"
   },
   "source": [
    "# Semantic Textual Similarity Task Example\n",
    "\n",
    "The embeddings produced by the Universal Sentence Encoder are approximately normalized. The semantic similarity of two sentences can be trivially computed as the inner product of the encodings."
   ]
  },
  {
   "cell_type": "code",
   "execution_count": 16,
   "metadata": {
    "colab": {},
    "colab_type": "code",
    "id": "h1FFCTKm7ba4"
   },
   "outputs": [],
   "source": [
    "def plot_similarity(labels, features, rotation):\n",
    "  corr = np.inner(features, features)\n",
    "  sns.set(font_scale=1.2)\n",
    "  g = sns.heatmap(\n",
    "      corr,\n",
    "      xticklabels=labels,\n",
    "      yticklabels=labels,\n",
    "      vmin=0,\n",
    "      vmax=1,\n",
    "      cmap=\"YlOrRd\")\n",
    "  g.set_xticklabels(labels, rotation=rotation)\n",
    "  g.set_title(\"Semantic Textual Similarity\")\n",
    "\n",
    "def run_and_plot(messages_):\n",
    "  message_embeddings_ = embed(messages_)\n",
    "  plot_similarity(messages_, message_embeddings_, 90)"
   ]
  },
  {
   "cell_type": "markdown",
   "metadata": {
    "colab_type": "text",
    "id": "339tuJ5Pwqqv"
   },
   "source": [
    "## Similarity Visualized\n",
    "Here we show the similarity in a heat map. The final graph is a 9x9 matrix where each entry `[i, j]` is colored based on the inner product of the encodings for sentence `i` and `j`."
   ]
  },
  {
   "cell_type": "code",
   "execution_count": 17,
   "metadata": {
    "colab": {
     "base_uri": "https://localhost:8080/",
     "height": 566
    },
    "colab_type": "code",
    "id": "cPMCaxrZwp7t",
    "outputId": "cf7b07b6-242a-4e3a-a0f6-d625ffd0d25e"
   },
   "outputs": [
    {
     "data": {
      "image/png": "[encoded data removed]",
      "text/plain": [
       "<Figure size 432x288 with 2 Axes>"
      ]
     },
     "metadata": {},
     "output_type": "display_data"
    }
   ],
   "source": [
    "messages = [\n",
    "    # Smartphones\n",
    "    \"I like my phone\",\n",
    "    \"My phone is not good.\",\n",
    "    \"Your cellphone looks great.\",\n",
    "\n",
    "    # Weather\n",
    "    \"Will it snow tomorrow?\",\n",
    "    \"Recently a lot of hurricanes have hit the US\",\n",
    "    \"Global warming is real\",\n",
    "\n",
    "    # Food and health\n",
    "    \"An apple a day, keeps the doctors away\",\n",
    "    \"Eating strawberries is healthy\",\n",
    "    \"Is paleo better than keto?\",\n",
    "\n",
    "    # Asking about age\n",
    "    \"How old are you?\",\n",
    "    \"what is your age?\",\n",
    "]\n",
    "\n",
    "run_and_plot(messages)\n",
    "               "
   ]
  },
  {
   "cell_type": "markdown",
   "metadata": {
    "colab_type": "text",
    "id": "6FjdeCqPJeg-"
   },
   "source": [
    "## Evaluation: STS (Semantic Textual Similarity) Benchmark\n",
    "\n",
    "The [**STS Benchmark**](http://ixa2.si.ehu.es/stswiki/index.php/STSbenchmark) provides an intristic evaluation of the degree to which similarity scores computed using sentence embeddings align with human judgements. The benchmark requires systems to return similarity scores for a diverse selection of sentence pairs. [Pearson correlation](https://en.wikipedia.org/wiki/Pearson_correlation_coefficient) is then used to evaluate the quality of the machine similarity scores against human judgements."
   ]
  },
  {
   "cell_type": "markdown",
   "metadata": {
    "colab_type": "text",
    "id": "q5nuBbI1iFQR"
   },
   "source": [
    "### Download data"
   ]
  },
  {
   "cell_type": "code",
   "execution_count": 9,
   "metadata": {
    "colab": {
     "base_uri": "https://localhost:8080/",
     "height": 52
    },
    "colab_type": "code",
    "id": "VOs8ZfOnJeBF",
    "outputId": "45ecdf26-ceb6-49d8-c903-4a03906154a7"
   },
   "outputs": [
    {
     "name": "stdout",
     "output_type": "stream",
     "text": [
      "Downloading data from http://ixa2.si.ehu.es/stswiki/images/4/48/Stsbenchmark.tar.gz\n",
      "417792/409630 [==============================] - 1s 1us/step\n"
     ]
    }
   ],
   "source": [
    "import pandas\n",
    "import scipy\n",
    "import math\n",
    "import csv\n",
    "\n",
    "sts_dataset = tf.keras.utils.get_file(\n",
    "    fname=\"Stsbenchmark.tar.gz\",\n",
    "    origin=\"http://ixa2.si.ehu.es/stswiki/images/4/48/Stsbenchmark.tar.gz\",\n",
    "    extract=True)\n",
    "sts_dev = pandas.read_table(\n",
    "    os.path.join(os.path.dirname(sts_dataset), \"stsbenchmark\", \"sts-dev.csv\"),\n",
    "    error_bad_lines=False,\n",
    "    skip_blank_lines=True,\n",
    "    usecols=[4, 5, 6],\n",
    "    names=[\"sim\", \"sent_1\", \"sent_2\"])\n",
    "sts_test = pandas.read_table(\n",
    "    os.path.join(\n",
    "        os.path.dirname(sts_dataset), \"stsbenchmark\", \"sts-test.csv\"),\n",
    "    error_bad_lines=False,\n",
    "    quoting=csv.QUOTE_NONE,\n",
    "    skip_blank_lines=True,\n",
    "    usecols=[4, 5, 6],\n",
    "    names=[\"sim\", \"sent_1\", \"sent_2\"])\n",
    "# cleanup some NaN values in sts_dev\n",
    "sts_dev = sts_dev[[isinstance(s, str) for s in sts_dev['sent_2']]]"
   ]
  },
  {
   "cell_type": "markdown",
   "metadata": {
    "colab_type": "text",
    "id": "8OKy8WhnKRe_"
   },
   "source": [
    "### Evaluate Sentence Embeddings"
   ]
  },
  {
   "cell_type": "code",
   "execution_count": 10,
   "metadata": {
    "colab": {
     "base_uri": "https://localhost:8080/",
     "height": 52
    },
    "colab_type": "code",
    "id": "W-q2r7jyZGb7",
    "outputId": "ac7ee9e8-bd21-47c3-e9e8-4b9d9150f9fa"
   },
   "outputs": [
    {
     "name": "stdout",
     "output_type": "stream",
     "text": [
      "Pearson correlation coefficient = 0.803640222976923\n",
      "p-value = 0.0\n"
     ]
    }
   ],
   "source": [
    "sts_data = sts_dev #@param [\"sts_dev\", \"sts_test\"] {type:\"raw\"}\n",
    "\n",
    "def run_sts_benchmark(batch):\n",
    "  sts_encode1 = tf.nn.l2_normalize(embed(tf.constant(batch['sent_1'].tolist())), axis=1)\n",
    "  sts_encode2 = tf.nn.l2_normalize(embed(tf.constant(batch['sent_2'].tolist())), axis=1)\n",
    "  cosine_similarities = tf.reduce_sum(tf.multiply(sts_encode1, sts_encode2), axis=1)\n",
    "  clip_cosine_similarities = tf.clip_by_value(cosine_similarities, -1.0, 1.0)\n",
    "  scores = 1.0 - tf.acos(clip_cosine_similarities)\n",
    "  \"\"\"Returns the similarity scores\"\"\"\n",
    "  return scores\n",
    "\n",
    "dev_scores = sts_data['sim'].tolist()\n",
    "scores = []\n",
    "for batch in np.array_split(sts_data, 10):\n",
    "  scores.extend(run_sts_benchmark(batch))\n",
    "\n",
    "pearson_correlation = scipy.stats.pearsonr(scores, dev_scores)\n",
    "print('Pearson correlation coefficient = {0}\\np-value = {1}'.format(\n",
    "    pearson_correlation[0], pearson_correlation[1]))"
   ]
  },
  {
   "cell_type": "code",
   "execution_count": 0,
   "metadata": {
    "colab": {},
    "colab_type": "code",
    "id": "rvYRwmOSZgPV"
   },
   "outputs": [],
   "source": []
  }
 ],
 "metadata": {
  "accelerator": "GPU",
  "colab": {
   "collapsed_sections": [
    "RUymE2l9GZfO"
   ],
   "name": "Semantic Similarity with TF-Hub Universal Encoder",
   "provenance": []
  },
  "kernelspec": {
   "display_name": "Python (tf2)",
   "language": "python",
   "name": "tf2"
  },
  "language_info": {
   "codemirror_mode": {
    "name": "ipython",
    "version": 3
   },
   "file_extension": ".py",
   "mimetype": "text/x-python",
   "name": "python",
   "nbconvert_exporter": "python",
   "pygments_lexer": "ipython3",
   "version": "3.7.6"
  }
 },
 "nbformat": 4,
 "nbformat_minor": 1
}
