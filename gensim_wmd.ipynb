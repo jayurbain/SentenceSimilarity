{
 "cells": [
  {
   "cell_type": "markdown",
   "metadata": {},
   "source": [
    "\n",
    "Word Movers' Distance\n",
    "=====================\n",
    "\n",
    "Jay Urbain, PhD\n",
    "\n",
    "Demonstrates using Gensim's implemenation of the WMD. Additional experiments with questions.\n",
    "\n",
    "References:   \n",
    "\n",
    "Matt Kusner et al. From Word Embeddings To Document Distances  \n",
    "http://jmlr.org/proceedings/papers/v37/kusnerb15.pdf\n",
    "\n",
    "Gensim WMD Tutorial    \n",
    "https://radimrehurek.com/gensim/auto_examples/tutorials/run_wmd.html\n",
    "        "
   ]
  },
  {
   "cell_type": "markdown",
   "metadata": {},
   "source": [
    "#### Installation\n",
    "\n",
    "pip install gensim\n",
    "\n",
    "pip install nltk"
   ]
  },
  {
   "cell_type": "markdown",
   "metadata": {},
   "source": [
    "WMD\n",
    "------\n",
    "\n",
    "WMD enables us to assess the \"distance\" between two documents in a meaningful\n",
    "way, even when they have no words in common. Uses `word2vec` vector embeddings of\n",
    "words. It has been shown to outperform many of the state-of-the-art methods in\n",
    "*k*-nearest neighbors classification.\n",
    "\n",
    "WMD is illustrated below for two similar sentences (illustration taken\n",
    "from `Vlad Niculae's` blog: http://vene.ro/blog/word-movers-distance-in-python.html \n",
    "\n",
    "The sentences have no words in common, but by matching the relevant words, WMD is able to\n",
    "accurately measure the (dis)similarity between the two sentences. The method\n",
    " uses the bag-of-words representation of the documents (word's frequencies in the documents), noted as $d$ in the figure below. \n",
    "\n",
    "The intuition behind the method is that we find the minimum \"traveling distance\"\n",
    "between documents, in other words, the most efficient way to \"move\" the\n",
    "distribution of document 1 to the distribution of document 2.\n"
   ]
  },
  {
   "cell_type": "code",
   "execution_count": 4,
   "metadata": {},
   "outputs": [],
   "source": [
    "%matplotlib inline"
   ]
  },
  {
   "cell_type": "code",
   "execution_count": 6,
   "metadata": {},
   "outputs": [
    {
     "data": {
      "image/png": "[encoded data removed]",
      "text/plain": [
       "<Figure size 720x720 with 1 Axes>"
      ]
     },
     "metadata": {
      "needs_background": "light"
     },
     "output_type": "display_data"
    }
   ],
   "source": [
    "# Image from https://vene.ro/images/wmd-obama.png\n",
    "import matplotlib.pyplot as plt\n",
    "import matplotlib.image as mpimg\n",
    "\n",
    "plt.figure(figsize=(10,10))\n",
    "img = mpimg.imread('wmd-obama.png')\n",
    "imgplot = plt.imshow(img)\n",
    "plt.axis('off')\n",
    "plt.show()"
   ]
  },
  {
   "cell_type": "markdown",
   "metadata": {},
   "source": [
    "Gensim's WMD functionality consists of the `wmdistance` method for distance computation, and the\n",
    "`WmdSimilarity` class for corpus based similarity queries.\n",
    "\n",
    "\n",
    "Computing the Word Mover's Distance\n",
    "---------------------------------------------\n",
    "\n",
    "To use WMD, you need word embeddings.\n",
    "\n",
    "The original WMD method and gensim's implementation use word2vec.\n"
   ]
  },
  {
   "cell_type": "code",
   "execution_count": 7,
   "metadata": {},
   "outputs": [],
   "source": [
    "# Initialize logging.\n",
    "import logging\n",
    "logging.basicConfig(format='%(asctime)s : %(levelname)s : %(message)s', level=logging.INFO)\n",
    "\n",
    "sentence_obama = 'Obama speaks to the media in Illinois'\n",
    "sentence_president = 'The president greets the press in Chicago'"
   ]
  },
  {
   "cell_type": "code",
   "execution_count": 3,
   "metadata": {},
   "outputs": [],
   "source": [
    "#!pip install nltk"
   ]
  },
  {
   "cell_type": "markdown",
   "metadata": {},
   "source": [
    "These sentences have very similar content, and as such the WMD should be low.\n",
    "Before we compute the WMD, we want to remove stopwords (\"the\", \"to\", etc.),\n",
    "as these do not contribute a lot to the information in the sentences.\n",
    "\n",
    "\n"
   ]
  },
  {
   "cell_type": "code",
   "execution_count": 8,
   "metadata": {},
   "outputs": [
    {
     "name": "stderr",
     "output_type": "stream",
     "text": [
      "[nltk_data] Downloading package stopwords to\n",
      "[nltk_data]     /Users/jayurbain/nltk_data...\n",
      "[nltk_data]   Package stopwords is already up-to-date!\n"
     ]
    }
   ],
   "source": [
    "# Import and download stopwords from NLTK.\n",
    "from nltk.corpus import stopwords\n",
    "from nltk import download\n",
    "download('stopwords')  # Download stopwords list.\n",
    "stop_words = stopwords.words('english')\n",
    "\n",
    "def preprocess(sentence):\n",
    "    return [w for w in sentence.lower().split() if w not in stop_words]\n",
    "\n",
    "sentence_obama = preprocess(sentence_obama)\n",
    "sentence_president = preprocess(sentence_president)"
   ]
  },
  {
   "cell_type": "markdown",
   "metadata": {},
   "source": [
    "Load word embeddings"
   ]
  },
  {
   "cell_type": "code",
   "execution_count": 9,
   "metadata": {},
   "outputs": [
    {
     "name": "stderr",
     "output_type": "stream",
     "text": [
      "2020-03-11 12:49:07,498 : INFO : loading projection weights from /Users/jayurbain/gensim-data/word2vec-google-news-300/word2vec-google-news-300.gz\n",
      "2020-03-11 12:51:50,995 : INFO : loaded (3000000, 300) matrix from /Users/jayurbain/gensim-data/word2vec-google-news-300/word2vec-google-news-300.gz\n"
     ]
    }
   ],
   "source": [
    "import gensim.downloader as api\n",
    "model = api.load('word2vec-google-news-300')"
   ]
  },
  {
   "cell_type": "code",
   "execution_count": 10,
   "metadata": {},
   "outputs": [],
   "source": [
    "#!pip install pyemd"
   ]
  },
  {
   "cell_type": "markdown",
   "metadata": {},
   "source": [
    "Compute WMD using the ``wmdistance`` method.\n"
   ]
  },
  {
   "cell_type": "code",
   "execution_count": 11,
   "metadata": {},
   "outputs": [
    {
     "name": "stderr",
     "output_type": "stream",
     "text": [
      "2020-03-11 12:51:51,011 : INFO : adding document #0 to Dictionary(0 unique tokens: [])\n",
      "2020-03-11 12:51:51,013 : INFO : built Dictionary(8 unique tokens: ['illinois', 'media', 'obama', 'speaks', 'chicago']...) from 2 documents (total 8 corpus positions)\n"
     ]
    },
    {
     "name": "stdout",
     "output_type": "stream",
     "text": [
      "distance = 3.3741\n"
     ]
    }
   ],
   "source": [
    "distance = model.wmdistance(sentence_obama, sentence_president)\n",
    "print('distance = %.4f' % distance)"
   ]
  },
  {
   "cell_type": "markdown",
   "metadata": {},
   "source": [
    "Let's try the same thing with two completely unrelated sentences. Notice that the distance is larger.\n",
    "\n",
    "\n"
   ]
  },
  {
   "cell_type": "code",
   "execution_count": 12,
   "metadata": {},
   "outputs": [
    {
     "name": "stderr",
     "output_type": "stream",
     "text": [
      "2020-03-11 12:51:51,024 : INFO : adding document #0 to Dictionary(0 unique tokens: [])\n",
      "2020-03-11 12:51:51,025 : INFO : built Dictionary(7 unique tokens: ['illinois', 'media', 'obama', 'speaks', 'favorite']...) from 2 documents (total 7 corpus positions)\n"
     ]
    },
    {
     "name": "stdout",
     "output_type": "stream",
     "text": [
      "distance = 4.3802\n"
     ]
    }
   ],
   "source": [
    "sentence_orange = preprocess('Oranges are my favorite fruit')\n",
    "distance = model.wmdistance(sentence_obama, sentence_orange)\n",
    "print('distance = %.4f' % distance)"
   ]
  },
  {
   "cell_type": "markdown",
   "metadata": {},
   "source": [
    "More challenging questions testing similar words with different meaning, and disimilar words with similar meaning"
   ]
  },
  {
   "cell_type": "code",
   "execution_count": 13,
   "metadata": {},
   "outputs": [],
   "source": [
    "q1 = \"Where do you live\"\n",
    "q2 = \"What is your address\"\n",
    "q3 = \"What is your name\"\n",
    "q4 = \"Where is your home\"\n",
    "\n",
    "q1 = preprocess(q1)\n",
    "q2 = preprocess(q2)\n",
    "q3 = preprocess(q3)\n",
    "q4 = preprocess(q4)\n",
    "\n",
    "messages = [q1,q2,q3,q4]"
   ]
  },
  {
   "cell_type": "code",
   "execution_count": 14,
   "metadata": {},
   "outputs": [
    {
     "name": "stderr",
     "output_type": "stream",
     "text": [
      "2020-03-11 12:51:51,044 : INFO : adding document #0 to Dictionary(0 unique tokens: [])\n",
      "2020-03-11 12:51:51,045 : INFO : built Dictionary(1 unique tokens: ['live']) from 2 documents (total 2 corpus positions)\n"
     ]
    },
    {
     "data": {
      "text/plain": [
       "0.0"
      ]
     },
     "execution_count": 14,
     "metadata": {},
     "output_type": "execute_result"
    }
   ],
   "source": [
    "model.wmdistance(q1, q1)"
   ]
  },
  {
   "cell_type": "code",
   "execution_count": 15,
   "metadata": {},
   "outputs": [
    {
     "name": "stderr",
     "output_type": "stream",
     "text": [
      "2020-03-11 12:51:51,058 : INFO : adding document #0 to Dictionary(0 unique tokens: [])\n",
      "2020-03-11 12:51:51,059 : INFO : built Dictionary(2 unique tokens: ['live', 'address']) from 2 documents (total 2 corpus positions)\n",
      "2020-03-11 12:51:51,061 : INFO : adding document #0 to Dictionary(0 unique tokens: [])\n",
      "2020-03-11 12:51:51,062 : INFO : built Dictionary(2 unique tokens: ['live', 'name']) from 2 documents (total 2 corpus positions)\n",
      "2020-03-11 12:51:51,064 : INFO : adding document #0 to Dictionary(0 unique tokens: [])\n",
      "2020-03-11 12:51:51,066 : INFO : built Dictionary(2 unique tokens: ['live', 'home']) from 2 documents (total 2 corpus positions)\n",
      "2020-03-11 12:51:51,068 : INFO : adding document #0 to Dictionary(0 unique tokens: [])\n",
      "2020-03-11 12:51:51,069 : INFO : built Dictionary(2 unique tokens: ['address', 'live']) from 2 documents (total 2 corpus positions)\n",
      "2020-03-11 12:51:51,073 : INFO : adding document #0 to Dictionary(0 unique tokens: [])\n",
      "2020-03-11 12:51:51,074 : INFO : built Dictionary(2 unique tokens: ['address', 'name']) from 2 documents (total 2 corpus positions)\n",
      "2020-03-11 12:51:51,076 : INFO : adding document #0 to Dictionary(0 unique tokens: [])\n",
      "2020-03-11 12:51:51,076 : INFO : built Dictionary(2 unique tokens: ['address', 'home']) from 2 documents (total 2 corpus positions)\n",
      "2020-03-11 12:51:51,080 : INFO : adding document #0 to Dictionary(0 unique tokens: [])\n",
      "2020-03-11 12:51:51,081 : INFO : built Dictionary(2 unique tokens: ['name', 'live']) from 2 documents (total 2 corpus positions)\n",
      "2020-03-11 12:51:51,082 : INFO : adding document #0 to Dictionary(0 unique tokens: [])\n",
      "2020-03-11 12:51:51,085 : INFO : built Dictionary(2 unique tokens: ['name', 'address']) from 2 documents (total 2 corpus positions)\n",
      "2020-03-11 12:51:51,086 : INFO : adding document #0 to Dictionary(0 unique tokens: [])\n",
      "2020-03-11 12:51:51,087 : INFO : built Dictionary(2 unique tokens: ['name', 'home']) from 2 documents (total 2 corpus positions)\n",
      "2020-03-11 12:51:51,090 : INFO : adding document #0 to Dictionary(0 unique tokens: [])\n",
      "2020-03-11 12:51:51,091 : INFO : built Dictionary(2 unique tokens: ['home', 'live']) from 2 documents (total 2 corpus positions)\n",
      "2020-03-11 12:51:51,092 : INFO : adding document #0 to Dictionary(0 unique tokens: [])\n",
      "2020-03-11 12:51:51,093 : INFO : built Dictionary(2 unique tokens: ['home', 'address']) from 2 documents (total 2 corpus positions)\n",
      "2020-03-11 12:51:51,095 : INFO : adding document #0 to Dictionary(0 unique tokens: [])\n",
      "2020-03-11 12:51:51,096 : INFO : built Dictionary(2 unique tokens: ['home', 'name']) from 2 documents (total 2 corpus positions)\n"
     ]
    },
    {
     "name": "stdout",
     "output_type": "stream",
     "text": [
      "['live'] ['address'] 3.1615443229675293\n",
      "['live'] ['name'] 3.352797031402588\n",
      "['live'] ['home'] 2.71511173248291\n",
      "['address'] ['live'] 3.1615443229675293\n",
      "['address'] ['name'] 3.0873148441314697\n",
      "['address'] ['home'] 3.1367220878601074\n",
      "['name'] ['live'] 3.352797031402588\n",
      "['name'] ['address'] 3.0873148441314697\n",
      "['name'] ['home'] 3.112905263900757\n",
      "['home'] ['live'] 2.71511173248291\n",
      "['home'] ['address'] 3.1367220878601074\n",
      "['home'] ['name'] 3.112905263900757\n"
     ]
    }
   ],
   "source": [
    "for i in range( len(messages) ):\n",
    "  for j in range( len(messages) ):\n",
    "    if i != j:\n",
    "      print(messages[i], messages[j], model.wmdistance(messages[i], messages[j]) )"
   ]
  },
  {
   "cell_type": "markdown",
   "metadata": {},
   "source": [
    "Normalizing word2vec vectors\n",
    "-----------------------------------\n",
    "\n",
    "When using the ``wmdistance`` method, it is beneficial to normalize the\n",
    "word2vec vectors first, so they all have equal length. To do this, simply\n",
    "call ``model.init_sims(replace=True)`` and Gensim will take care of that for\n",
    "you.\n",
    "\n",
    "Usually, one measures the distance between two word2vec vectors using the\n",
    "cosine distance (see `cosine similarity\n",
    "<https://en.wikipedia.org/wiki/Cosine_similarity>`_\\ ), which measures the\n",
    "angle between vectors. WMD, on the other hand, uses the Euclidean distance.\n",
    "The Euclidean distance between two vectors might be large because their\n",
    "lengths differ, but the cosine distance is small because the angle between\n",
    "them is small; we can mitigate some of this by normalizing the vectors.\n",
    "\n",
    "Note that normalizing the vectors can take some time, especially if you have\n",
    "  a large vocabulary and/or large vectors.\n"
   ]
  },
  {
   "cell_type": "code",
   "execution_count": 16,
   "metadata": {},
   "outputs": [
    {
     "name": "stderr",
     "output_type": "stream",
     "text": [
      "2020-03-11 12:51:51,107 : INFO : precomputing L2-norms of word weight vectors\n",
      "2020-03-11 12:51:58,163 : INFO : adding document #0 to Dictionary(0 unique tokens: [])\n",
      "2020-03-11 12:51:58,164 : INFO : built Dictionary(8 unique tokens: ['illinois', 'media', 'obama', 'speaks', 'chicago']...) from 2 documents (total 8 corpus positions)\n",
      "2020-03-11 12:51:58,165 : INFO : adding document #0 to Dictionary(0 unique tokens: [])\n",
      "2020-03-11 12:51:58,166 : INFO : built Dictionary(7 unique tokens: ['illinois', 'media', 'obama', 'speaks', 'favorite']...) from 2 documents (total 7 corpus positions)\n",
      "2020-03-11 12:51:58,168 : INFO : adding document #0 to Dictionary(0 unique tokens: [])\n",
      "2020-03-11 12:51:58,169 : INFO : built Dictionary(4 unique tokens: ['illinois', 'media', 'obama', 'speaks']) from 2 documents (total 8 corpus positions)\n"
     ]
    },
    {
     "name": "stdout",
     "output_type": "stream",
     "text": [
      "distance: 1.0174646259300113\n",
      "distance = 1.3663\n",
      "distance = 0.0000\n"
     ]
    }
   ],
   "source": [
    "model.init_sims(replace=True)  # Normalizes the vectors in the word2vec class.\n",
    "\n",
    "distance = model.wmdistance(sentence_obama, sentence_president)  # Compute WMD as normal.\n",
    "print('distance: %r' % distance)\n",
    "\n",
    "distance = model.wmdistance(sentence_obama, sentence_orange)\n",
    "print('distance = %.4f' % distance)\n",
    "\n",
    "distance = model.wmdistance(sentence_obama, sentence_obama)\n",
    "print('distance = %.4f' % distance)"
   ]
  },
  {
   "cell_type": "markdown",
   "metadata": {},
   "source": [
    "Additional References\n",
    "-------------------------\n",
    "\n",
    "1. Ofir Pele and Michael Werman, *A linear time histogram metric for improved SIFT matching, 2008.\n",
    "2. Ofir Pele and Michael Werman, *Fast and robust earth mover's distances, 2009.\n",
    "3. Matt Kusner et al. *From Embeddings To Document Distances, 2015.\n",
    "4. Thomas Mikolov et al. *Efficient Estimation of Word Representations in Vector Space, 2013.\n",
    "\n",
    "\n"
   ]
  },
  {
   "cell_type": "code",
   "execution_count": null,
   "metadata": {},
   "outputs": [],
   "source": []
  }
 ],
 "metadata": {
  "kernelspec": {
   "display_name": "Python [conda env:pytorch_rl] *",
   "language": "python",
   "name": "conda-env-pytorch_rl-py"
  },
  "language_info": {
   "codemirror_mode": {
    "name": "ipython",
    "version": 3
   },
   "file_extension": ".py",
   "mimetype": "text/x-python",
   "name": "python",
   "nbconvert_exporter": "python",
   "pygments_lexer": "ipython3",
   "version": "3.7.6"
  }
 },
 "nbformat": 4,
 "nbformat_minor": 1
}
